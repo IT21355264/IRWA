{
  "nbformat": 4,
  "nbformat_minor": 0,
  "metadata": {
    "colab": {
      "provenance": []
    },
    "kernelspec": {
      "name": "python3",
      "display_name": "Python 3"
    },
    "language_info": {
      "name": "python"
    }
  },
  "cells": [
    {
      "cell_type": "code",
      "execution_count": null,
      "metadata": {
        "colab": {
          "base_uri": "https://localhost:8080/"
        },
        "id": "VZXgW_cqhp1-",
        "outputId": "27ac2318-74eb-4775-957c-772c80118f03"
      },
      "outputs": [
        {
          "output_type": "stream",
          "name": "stdout",
          "text": [
            "Mounted at /content/drive\n"
          ]
        }
      ],
      "source": [
        "from google.colab import drive\n",
        "drive.mount('/content/drive',force_remount=True)"
      ]
    },
    {
      "cell_type": "code",
      "source": [
        "%cd /content/drive/MyDrive/IRWA"
      ],
      "metadata": {
        "colab": {
          "base_uri": "https://localhost:8080/"
        },
        "id": "ZSYxguJ0i1HC",
        "outputId": "be3442d3-716e-4950-a58c-ac88fb981df5"
      },
      "execution_count": null,
      "outputs": [
        {
          "output_type": "stream",
          "name": "stdout",
          "text": [
            "/content/drive/MyDrive/IRWA\n"
          ]
        }
      ]
    },
    {
      "cell_type": "code",
      "source": [
        "\n",
        "import os\n",
        "\n",
        "\n",
        "def invertedIndex():\n",
        "  dictionary=dict()\n",
        "  directory=os.getcwd()+'/inverted'\n",
        "  file=os.listdir(directory)\n",
        "\n",
        "  #print(file)\n",
        "\n",
        "  for x in file:\n",
        "    with open(os.getcwd()+'/inverted/'+x,'r')as f:\n",
        "      #print(files)\n",
        "      words=f.read().lower().split()\n",
        "      #print(words)\n",
        "      for y in words:\n",
        "        if y not in dictionary:\n",
        "          dictionary[y]=[x]\n",
        "          #print(\"if\",dictionary)\n",
        "        else:\n",
        "          dictionary[y].append(x)\n",
        "  #print(dictionary)\n",
        "  return(dictionary)\n"
      ],
      "metadata": {
        "id": "RKUD6SGPjS0f"
      },
      "execution_count": null,
      "outputs": []
    },
    {
      "cell_type": "code",
      "source": [
        "def And_op (list1,list2):\n",
        "  if ((list1)and(list2)):\n",
        "    return  set(list1).intersection(list2)\n",
        "  else:\n",
        "    return()\n",
        "\n",
        "def Or_op(list1,list2):\n",
        "  return set(list1).union(list2)\n",
        "\n",
        "\n",
        "def Not_op(a):\n",
        "  directory=os.getcwd()+'/inverted'\n",
        "  filelist=os.listdir(directory)\n",
        "  return set(filelist).symmetric_difference(a)\n",
        "\n",
        "\n",
        "\n",
        "\n",
        "ii=invertedIndex()\n",
        "for key in ii:\n",
        "  if key == 'approach':\n",
        "    list1=ii[key]\n",
        "    #print(list1)\n",
        "\n",
        "  if key == 'drug':\n",
        "    list2=ii[key]\n",
        "    #print(list2)\n",
        "\n",
        "  if key == 'for':\n",
        "    list3=ii[key]\n",
        "    #print(list3)\n",
        "\n",
        "list4 =  Or_op(list1,list2)\n",
        "#print(list4)\n",
        "list5 = Not_op(list4)\n",
        "list6=  And_op(list3,list5)\n",
        "print(list6)\n",
        "\n"
      ],
      "metadata": {
        "id": "4JInLsQLT0_4",
        "colab": {
          "base_uri": "https://localhost:8080/"
        },
        "outputId": "d7c2f5c9-722c-499e-886e-96a1ba5997fc"
      },
      "execution_count": null,
      "outputs": [
        {
          "output_type": "stream",
          "name": "stdout",
          "text": [
            "['Doc2.txt', 'Doc1.txt']\n",
            "['Doc3.txt']\n",
            "['Doc3.txt', 'Doc4.txt', 'Doc1.txt']\n",
            "{'Doc4.txt'}\n"
          ]
        }
      ]
    },
    {
      "cell_type": "code",
      "source": [
        "import nltk\n",
        "from nltk.corpus import stopwords\n",
        "from nltk.tokenize import word_tokenize\n",
        "from nltk.stem import PorterStemmer\n",
        "\n",
        "sw=stopwords.words('english')\n",
        "\n",
        "quote = \"Pythoners are very intelligent and work very pythonly and now they are pythoning their way to success.\"\n",
        "tokenized_words=word_tokenize(quote)\n",
        "\n",
        "new_list_with_out_stop_words=[]\n",
        "\n",
        "for tw in tokenized_words:\n",
        "  if tw not in sw:\n",
        "    new_list_with_out_stop_words.append(tw)\n",
        "#print(new_list_with_out_stop_words)\n",
        "\n",
        "new_list=['intelligent','work']\n",
        "final_stop_word_list=sw+new_list\n",
        "print(len(final_stop_word_list))\n",
        "\n",
        "\n",
        "\n",
        "stemmed_word=[]\n",
        "\n",
        "stemmer=PorterStemmer()\n",
        "for i in tokenized_words:\n",
        "   stemmed_word.append(stemmer.stem(i))\n",
        "print(stemmed_word)\n",
        "print(len(stemmed_word))\n",
        "\n",
        "\n",
        "\n",
        "\n",
        "\n",
        "\n"
      ],
      "metadata": {
        "colab": {
          "base_uri": "https://localhost:8080/"
        },
        "id": "lbAMSLddINVP",
        "outputId": "dd9384d8-b554-4631-fbe0-ef5041eb4190"
      },
      "execution_count": null,
      "outputs": [
        {
          "output_type": "stream",
          "name": "stdout",
          "text": [
            "181\n",
            "['python', 'are', 'veri', 'intellig', 'and', 'work', 'veri', 'pythonli', 'and', 'now', 'they', 'are', 'python', 'their', 'way', 'to', 'success', '.']\n",
            "18\n"
          ]
        }
      ]
    },
    {
      "cell_type": "code",
      "source": [
        "import nltk\n",
        "nltk.download('punkt')"
      ],
      "metadata": {
        "colab": {
          "base_uri": "https://localhost:8080/"
        },
        "id": "ouDUM4VItKr9",
        "outputId": "d330f026-315c-4843-f344-e9de370cb5ef"
      },
      "execution_count": null,
      "outputs": [
        {
          "output_type": "stream",
          "name": "stderr",
          "text": [
            "[nltk_data] Downloading package punkt to /root/nltk_data...\n",
            "[nltk_data]   Unzipping tokenizers/punkt.zip.\n"
          ]
        },
        {
          "output_type": "execute_result",
          "data": {
            "text/plain": [
              "True"
            ]
          },
          "metadata": {},
          "execution_count": 69
        }
      ]
    },
    {
      "cell_type": "code",
      "source": [
        "import nltk\n",
        "nltk.download ('stopwords')"
      ],
      "metadata": {
        "colab": {
          "base_uri": "https://localhost:8080/"
        },
        "id": "8O5J4cDqrfwv",
        "outputId": "9151a1a3-619b-4327-f9f4-72aba879e9da"
      },
      "execution_count": null,
      "outputs": [
        {
          "output_type": "stream",
          "name": "stderr",
          "text": [
            "[nltk_data] Downloading package stopwords to /root/nltk_data...\n",
            "[nltk_data]   Unzipping corpora/stopwords.zip.\n"
          ]
        },
        {
          "output_type": "execute_result",
          "data": {
            "text/plain": [
              "True"
            ]
          },
          "metadata": {},
          "execution_count": 64
        }
      ]
    },
    {
      "cell_type": "code",
      "source": [],
      "metadata": {
        "id": "8mzWQI_RvTY3"
      },
      "execution_count": null,
      "outputs": []
    }
  ]
}