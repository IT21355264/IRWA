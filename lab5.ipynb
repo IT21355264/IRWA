{
  "nbformat": 4,
  "nbformat_minor": 0,
  "metadata": {
    "colab": {
      "provenance": []
    },
    "kernelspec": {
      "name": "python3",
      "display_name": "Python 3"
    },
    "language_info": {
      "name": "python"
    }
  },
  "cells": [
    {
      "cell_type": "markdown",
      "source": [
        "Create a program for Index Elimination - Only consider high-idf query terms."
      ],
      "metadata": {
        "id": "T6--_Ij1pN_Y"
      }
    },
    {
      "cell_type": "code",
      "execution_count": null,
      "metadata": {
        "id": "sLy_7gB2ywDR"
      },
      "outputs": [],
      "source": [
        "import numpy as np\n",
        "from scipy.sparse import csr_matrix"
      ]
    },
    {
      "cell_type": "code",
      "source": [
        "# Doc1 = \"This is document 1. It contains some text for testing.\"\n",
        "# Doc2 = \"Document 2 has different content for testing purposes.\"\n",
        "# Doc3 = \"The third document is here with unique words.\""
      ],
      "metadata": {
        "id": "bQ39jYw-1wwv"
      },
      "execution_count": null,
      "outputs": []
    },
    {
      "cell_type": "code",
      "source": [
        "# doc=[Doc1,Doc2,Doc3]"
      ],
      "metadata": {
        "id": "MNc5mhpT6Vgo"
      },
      "execution_count": null,
      "outputs": []
    },
    {
      "cell_type": "code",
      "source": [
        "# doc"
      ],
      "metadata": {
        "colab": {
          "base_uri": "https://localhost:8080/"
        },
        "id": "5IuB7Hp86aUS",
        "outputId": "bc76969d-2707-4afb-9fbe-a54f243ed18c"
      },
      "execution_count": null,
      "outputs": [
        {
          "output_type": "execute_result",
          "data": {
            "text/plain": [
              "['This is document 1. It contains some text for testing.',\n",
              " 'Document 2 has different content for testing purposes.',\n",
              " 'The third document is here with unique words.']"
            ]
          },
          "metadata": {},
          "execution_count": 5
        }
      ]
    },
    {
      "cell_type": "code",
      "source": [
        "doc = ['This is document 1. It contains some text for testing.',\n",
        " 'Document 2 has different content for testing purposes.',\n",
        " 'The third document is here with unique words.']"
      ],
      "metadata": {
        "id": "QJgyiysIJwKi"
      },
      "execution_count": null,
      "outputs": []
    },
    {
      "cell_type": "code",
      "source": [
        "Query = \"This is a test query for information retrieval.\""
      ],
      "metadata": {
        "id": "J5EHtg9A6nDt"
      },
      "execution_count": null,
      "outputs": []
    },
    {
      "cell_type": "code",
      "source": [
        "from sklearn.feature_extraction.text import TfidfVectorizer"
      ],
      "metadata": {
        "id": "lTH_YFzD9-G-"
      },
      "execution_count": null,
      "outputs": []
    },
    {
      "cell_type": "code",
      "source": [
        "vec=TfidfVectorizer()"
      ],
      "metadata": {
        "id": "ZSqGc5Vr9_cd"
      },
      "execution_count": null,
      "outputs": []
    },
    {
      "cell_type": "code",
      "source": [
        "tfidf=vec.fit_transform(doc)"
      ],
      "metadata": {
        "id": "N--Z6FAW-D5u"
      },
      "execution_count": null,
      "outputs": []
    },
    {
      "cell_type": "code",
      "source": [
        "import math\n",
        "\n",
        "from collections import Counter"
      ],
      "metadata": {
        "id": "_4Ry_z0hEMnU"
      },
      "execution_count": null,
      "outputs": []
    },
    {
      "cell_type": "code",
      "source": [
        "def comput_IDF(doc,term):\n",
        "  doc_count=0\n",
        "  for docs in doc:\n",
        "    if term in doc:\n",
        "      doc_count +=1\n",
        "\n",
        "    if doc_count == 0:\n",
        "      return 0\n",
        "\n",
        "    idf = math.log(len(doc)/doc_count)\n",
        "\n",
        "  return idf"
      ],
      "metadata": {
        "id": "u3WFFdPW1K3s"
      },
      "execution_count": null,
      "outputs": []
    },
    {
      "cell_type": "code",
      "source": [
        "idf_threshold =1.0"
      ],
      "metadata": {
        "id": "-3ssk8dTGg2w"
      },
      "execution_count": null,
      "outputs": []
    },
    {
      "cell_type": "code",
      "source": [
        "def filter_higher_idfterms(Query,doc,idf_threshold):\n",
        "  term_idf_scores={}\n",
        "  sp= Query.split(' ')\n",
        "  for term in sp:\n",
        "    idf = comput_IDF(doc,term)\n",
        "    if idf>= idf_threshold:\n",
        "      term_idf_scores[term] = idf\n",
        "\n",
        "    return  term_idf_scores"
      ],
      "metadata": {
        "id": "etOArNkZGn9i"
      },
      "execution_count": null,
      "outputs": []
    },
    {
      "cell_type": "code",
      "source": [
        "hit=filter_higher_idfterms(Query,doc,idf_threshold)"
      ],
      "metadata": {
        "id": "l4GRzjz5IbVK"
      },
      "execution_count": null,
      "outputs": []
    },
    {
      "cell_type": "code",
      "source": [
        "print (\"Higr IDF Term: \")\n",
        "\n",
        "for term,idf in hit.items():\n",
        "     print(f\"{term}: IDF = {idf}\")"
      ],
      "metadata": {
        "colab": {
          "base_uri": "https://localhost:8080/"
        },
        "id": "SWet6glfI-fh",
        "outputId": "696560ac-9026-4094-ae2e-439cfc3336ee"
      },
      "execution_count": null,
      "outputs": [
        {
          "output_type": "stream",
          "name": "stdout",
          "text": [
            "Higr IDF Term: \n"
          ]
        }
      ]
    },
    {
      "cell_type": "code",
      "source": [
        "import math\n",
        "from collections import Counter\n",
        "\n",
        "\n",
        "corpus = ['This is document 1. It contains some text for testing.',\n",
        " 'Document 2 has different content for testing purposes.',\n",
        " 'The third document is here with unique words.']\n",
        "\n",
        "Query = \"This is a test query for information retrieval.\"\n",
        "\n",
        "def comput_IDF(corpus,term):\n",
        "  doc_count=0\n",
        "  for docs in corpus:\n",
        "    if term in docs:\n",
        "      doc_count +=1\n",
        "  if doc_count == 0:\n",
        "      return 0\n",
        "\n",
        "  idf = math.log(len(corpus)/doc_count)\n",
        "\n",
        "  return idf\n",
        "\n",
        "idf_threshold =1.0\n",
        "\n",
        "def filter_higher_idfterms(Query,doc,idf_threshold):\n",
        "  term_idf_scores={}\n",
        "  sp= Query.split(' ')\n",
        "  for term in sp:\n",
        "    idf = comput_IDF(doc,term)\n",
        "    if idf>= idf_threshold:\n",
        "      term_idf_scores[term] = idf\n",
        "\n",
        "    return  term_idf_scores\n",
        "\n",
        "\n",
        "hit=filter_higher_idfterms(Query,doc,idf_threshold)\n",
        "\n",
        "\n",
        "print (\"Higr IDF Term: \")\n",
        "\n",
        "for term,idf in hit.items():\n",
        "     print(f\"{term}: IDF = {idf}\")\n",
        "\n",
        "\n"
      ],
      "metadata": {
        "colab": {
          "base_uri": "https://localhost:8080/"
        },
        "id": "PA52mjCbJiPm",
        "outputId": "f5bc1d86-187a-4461-fef0-3eeac5512f56"
      },
      "execution_count": null,
      "outputs": [
        {
          "output_type": "stream",
          "name": "stdout",
          "text": [
            "Higr IDF Term: \n",
            "This: IDF = 1.0986122886681098\n"
          ]
        }
      ]
    },
    {
      "cell_type": "code",
      "source": [
        "from collections import Counter\n",
        "import math\n",
        "\n",
        "# Step 1: Define your corpus (list of documents)\n",
        "# corpus = [\n",
        "\n",
        "#    \"This is document 1. It contains some text for testing.\",\n",
        "#     \"Document 2 has different content for testing purposes.\",\n",
        "#     \"The third document is here with unique words.\"\n",
        "# ]\n",
        "\n",
        "Doc1 = \"This is document 1. It contains some text for testing.\"\n",
        "Doc2 = \"Document 2 has different content for testing purposes.\"\n",
        "Doc3 = \"The third document is here with unique words.\"\n",
        "\n",
        "\n",
        "corpus=[Doc1,Doc2,Doc3]\n",
        "\n",
        "\n",
        "\n",
        "# Step 2: Define your query\n",
        "query = \"This is a test query for information retrieval\"\n",
        "\n",
        "# Step 3: Create a function to calculate IDF for each term in the corpus\n",
        "def calculate_idf(corpus, term):\n",
        "\n",
        "      doc_count = sum(1 for doc in corpus if term in doc)\n",
        "      if doc_count == 0:\n",
        "        return 0\n",
        "      idf = math.log(len(corpus)/doc_count)\n",
        "      return idf\n",
        "\n",
        "\n",
        "\n",
        "# def calculate_idf(corpus, term):\n",
        "#     document_count = sum(1 for doc in corpus if term in doc)\n",
        "#     if document_count == 0:\n",
        "#         return 0  # Avoid division by zero\n",
        "#     idf = math.log(len(corpus) / document_count)\n",
        "#     return idf\n",
        "\n",
        "\n",
        "\n",
        "\n",
        "# Step 4: Define a threshold for high-IDF terms\n",
        "idf_threshold = 1.0  # You can adjust this threshold\n",
        "\n",
        "# Step 5: Create a function to filter high-IDF terms from the query\n",
        "def filter_high_idf_terms(query, corpus, threshold):\n",
        "    term_idf_scores = {}\n",
        "    for term in query.split():\n",
        "        idf = calculate_idf(corpus, term)\n",
        "        if idf >= threshold:\n",
        "            term_idf_scores[term] = idf\n",
        "    return term_idf_scores\n",
        "\n",
        "# Step 6: Filter high-IDF terms from the query\n",
        "high_idf_terms = filter_high_idf_terms(query, corpus, idf_threshold)\n",
        "\n",
        "# Step 7: Print the high-IDF terms and their IDF scores\n",
        "print(\"High-IDF Terms:\")\n",
        "for term, idf in high_idf_terms.items():\n",
        "    print(f\"{term}: IDF = {idf}\")\n"
      ],
      "metadata": {
        "colab": {
          "base_uri": "https://localhost:8080/"
        },
        "id": "z19q8-ugJh4p",
        "outputId": "71a7b27a-f4ba-40b9-d3c4-01ffa6ed61bf"
      },
      "execution_count": null,
      "outputs": [
        {
          "output_type": "stream",
          "name": "stdout",
          "text": [
            "High-IDF Terms:\n",
            "This: IDF = 1.0986122886681098\n"
          ]
        }
      ]
    },
    {
      "cell_type": "code",
      "source": [
        "from collections import Counter\n",
        "import math\n",
        "\n",
        "# Step 1: Define your corpus (list of documents)\n",
        "corpus = [\n",
        "    \"This is document 1.It contains some text for testing.\",\n",
        "    \"Document 2 has different content for testing purposes.\",\n",
        "    \"The third document is here with unique words.\"\n",
        "]\n",
        "\n",
        "# Step 2: Define your query\n",
        "query = \"This is a test query for information retrieval\"\n",
        "\n",
        "# Step 3: Create a function to calculate IDF for each term in the corpus\n",
        "def calculate_idf(corpus, term):\n",
        "    document_count = sum(1 for doc in corpus if term in doc)\n",
        "    if document_count == 0:\n",
        "        return 0  # Avoid division by zero\n",
        "    idf = math.log(len(corpus) / document_count)\n",
        "    return idf\n",
        "\n",
        "# Step 4: Define a threshold for high-IDF terms\n",
        "idf_threshold = 1.0  # You can adjust this threshold\n",
        "\n",
        "# Step 5: Create a function to filter high-IDF terms from the query\n",
        "def filter_high_idf_terms(query, corpus, threshold):\n",
        "    term_idf_scores = {}\n",
        "    for term in query.split():\n",
        "        idf = calculate_idf(corpus, term)\n",
        "        if idf >= threshold:\n",
        "            term_idf_scores[term] = idf\n",
        "    return term_idf_scores\n",
        "\n",
        "# Step 6: Filter high-IDF terms from the query\n",
        "high_idf_terms = filter_high_idf_terms(query, corpus, idf_threshold)\n",
        "\n",
        "# Step 7: Print the high-IDF terms and their IDF scores\n",
        "print(\"High-IDF Terms:\")\n",
        "for term, idf in high_idf_terms.items():\n",
        "    print(f\"{term}: IDF = {idf}\")\n"
      ],
      "metadata": {
        "colab": {
          "base_uri": "https://localhost:8080/"
        },
        "id": "qzaGh5TAMGac",
        "outputId": "ec362254-aa23-43b7-8990-52d3053206e6"
      },
      "execution_count": null,
      "outputs": [
        {
          "output_type": "stream",
          "name": "stdout",
          "text": [
            "High-IDF Terms:\n",
            "This: IDF = 1.0986122886681098\n"
          ]
        }
      ]
    },
    {
      "cell_type": "markdown",
      "source": [
        "    "
      ],
      "metadata": {
        "id": "PvPlVLe1pfLC"
      }
    },
    {
      "cell_type": "markdown",
      "source": [
        "Create a program for Index Elimination - Only consider docs containing many query\n",
        "terms (Jaccard Coefficient)."
      ],
      "metadata": {
        "id": "LQ4vDBR2o-zn"
      }
    },
    {
      "cell_type": "code",
      "source": [
        "import nltk"
      ],
      "metadata": {
        "id": "tyIpUMpWpsgv"
      },
      "execution_count": null,
      "outputs": []
    },
    {
      "cell_type": "code",
      "source": [
        "from nltk.tokenize import word_tokenize"
      ],
      "metadata": {
        "id": "cbSPGBoHqanq"
      },
      "execution_count": null,
      "outputs": []
    },
    {
      "cell_type": "code",
      "source": [
        "Doc1 = \"This is document 1. It contains some text for testing.\"\n",
        "Doc2 = \"Document 2 has different content for testing purposes.\"\n",
        "Doc3 = \"The third document is here with unique words.\"\n",
        "\n",
        "\n",
        "corpus=[Doc1,Doc2,Doc3]\n",
        "\n",
        "\n",
        "\n",
        "# Step 2: Define your query\n",
        "query = \"This is a test query for information retrieval\""
      ],
      "metadata": {
        "id": "hSfWc7h4rAUO"
      },
      "execution_count": null,
      "outputs": []
    },
    {
      "cell_type": "code",
      "source": [
        "def Js(x,y):\n",
        "  intersection = len(x.intersection(y))\n",
        "  union = len(x.union(y))\n",
        "  if union == 0 :\n",
        "    return 0\n",
        "  return intersection/union\n",
        "\n",
        "jc_threshold = 0.5"
      ],
      "metadata": {
        "id": "7Slh3ywMra0v"
      },
      "execution_count": null,
      "outputs": []
    },
    {
      "cell_type": "markdown",
      "source": [
        "Create champion list"
      ],
      "metadata": {
        "id": "iv-oJNcNvgYL"
      }
    },
    {
      "cell_type": "code",
      "source": [
        "import math\n",
        "from collections import Counter\n",
        "\n",
        "# Define the corpus (list of documents)\n",
        "corpus = [\n",
        "    \"This is document 1. It contains some text for testing.\",\n",
        "    \"Document 2 has different content for testing purposes.\",\n",
        "    \"The third document is here with unique words.\"\n",
        "]\n",
        "\n",
        "# Define the query\n",
        "query = \"This is a test query for information retrieval\"\n",
        "\n",
        "# Tokenize the documents and query\n",
        "def tokenize(text):\n",
        "    return text.lower().split()\n",
        "\n",
        "corpus_tokens = [tokenize(doc) for doc in corpus]\n",
        "query_tokens = tokenize(query)\n",
        "\n",
        "# Calculate IDF for each term in the corpus\n",
        "def calculate_idf(corpus_tokens, term):\n",
        "    document_count = sum(1 for doc in corpus_tokens if term in doc)\n",
        "    if document_count == 0:\n",
        "        return 0  # Avoid division by zero\n",
        "    idf = math.log(len(corpus_tokens) / document_count)\n",
        "    return idf\n",
        "\n",
        "# Calculate TF-IDF for each term in each document\n",
        "tfidf_scores = []\n",
        "for doc_tokens in corpus_tokens:\n",
        "    tfidf_doc = {}\n",
        "    for term in query_tokens:\n",
        "        tf = doc_tokens.count(term)\n",
        "        idf = calculate_idf(corpus_tokens, term)\n",
        "        tfidf = tf * idf\n",
        "        tfidf_doc[term] = tfidf\n",
        "    tfidf_scores.append(tfidf_doc)\n",
        "\n",
        "# Rank documents based on the sum of TF-IDF scores for query terms\n",
        "document_scores = []\n",
        "for tfidf_doc in tfidf_scores:\n",
        "    score = sum(tfidf_doc.values())\n",
        "    document_scores.append(score)\n",
        "\n",
        "# Create a list of (document, score) pairs and sort by score in descending order\n",
        "document_ranking = [(corpus[i], document_scores[i]) for i in range(len(corpus))]\n",
        "document_ranking.sort(key=lambda x: x[1], reverse=True)\n",
        "\n",
        "# Define the number of top documents to include in the Champion List\n",
        "champion_list_size = 2  # You can adjust this number\n",
        "\n",
        "# Get the Champion List\n",
        "champion_list = document_ranking[:champion_list_size]\n",
        "\n",
        "# Print the Champion List\n",
        "print(\"Champion List:\")\n",
        "for i, (document, score) in enumerate(champion_list, start=1):\n",
        "    print(f\"Rank {i}: Score {score:.2f}\\n{document}\\n\")\n",
        "\n"
      ],
      "metadata": {
        "id": "225put_cC2nk",
        "outputId": "1d4cf9c9-bd3e-4acb-9d07-66aa9bf9d75e",
        "colab": {
          "base_uri": "https://localhost:8080/"
        }
      },
      "execution_count": null,
      "outputs": [
        {
          "output_type": "stream",
          "name": "stdout",
          "text": [
            "Champion List:\n",
            "Rank 1: Score 1.91\n",
            "This is document 1. It contains some text for testing.\n",
            "\n",
            "Rank 2: Score 0.41\n",
            "Document 2 has different content for testing purposes.\n",
            "\n"
          ]
        }
      ]
    },
    {
      "cell_type": "code",
      "source": [],
      "metadata": {
        "id": "jOnGg1EIC3aL"
      },
      "execution_count": null,
      "outputs": []
    }
  ]
}