{
  "nbformat": 4,
  "nbformat_minor": 0,
  "metadata": {
    "colab": {
      "provenance": []
    },
    "kernelspec": {
      "name": "python3",
      "display_name": "Python 3"
    },
    "language_info": {
      "name": "python"
    }
  },
  "cells": [
    {
      "cell_type": "code",
      "execution_count": null,
      "metadata": {
        "colab": {
          "base_uri": "https://localhost:8080/"
        },
        "id": "jW16TMtZxSKE",
        "outputId": "d364a38e-f7e1-4eec-fd39-39cc0cdfd8dc"
      },
      "outputs": [
        {
          "output_type": "stream",
          "name": "stdout",
          "text": [
            "[('nimal', 'sl'), ('amal', 'nw')]\n"
          ]
        }
      ],
      "source": [
        "team=[\"sl\" , \"nw\"]\n",
        "captain=[\"nimal\", \"amal\"]\n",
        "\n",
        "output=[(captain, team)for team, captain in zip (team,captain)]\n",
        "\n",
        "print(output)"
      ]
    },
    {
      "cell_type": "code",
      "source": [
        "ziped=zip(team, captain)\n",
        "\n",
        "print (ziped)\n",
        "\n",
        "zip_list=list(ziped)\n",
        "\n",
        "print(zip_list)\n"
      ],
      "metadata": {
        "colab": {
          "base_uri": "https://localhost:8080/"
        },
        "id": "IcEK8LMhyXUr",
        "outputId": "6a972960-3d3e-4014-c7ff-b1d63a813c83"
      },
      "execution_count": null,
      "outputs": [
        {
          "output_type": "stream",
          "name": "stdout",
          "text": [
            "<zip object at 0x7b9e4da4dec0>\n",
            "[('sl', 'nimal'), ('nw', 'amal')]\n"
          ]
        }
      ]
    },
    {
      "cell_type": "code",
      "source": [
        "team=[\"sl\" , \"nw\"]\n",
        "captain=[\"nimal\", \"amal\"]\n",
        "ziped=zip(team, captain)"
      ],
      "metadata": {
        "id": "PvBd527A1AGK"
      },
      "execution_count": null,
      "outputs": []
    },
    {
      "cell_type": "code",
      "source": [
        "zip_dict=dict(ziped)\n",
        "zip_dict\n",
        "#print(zip_dict)"
      ],
      "metadata": {
        "colab": {
          "base_uri": "https://localhost:8080/"
        },
        "id": "YICzzqMCy4ss",
        "outputId": "b80cd881-e198-4e43-d5e3-0aaca44e8920"
      },
      "execution_count": null,
      "outputs": [
        {
          "output_type": "execute_result",
          "data": {
            "text/plain": [
              "{'sl': 'nimal', 'nw': 'amal'}"
            ]
          },
          "metadata": {},
          "execution_count": 8
        }
      ]
    },
    {
      "cell_type": "code",
      "source": [
        "books= [\"textbooks\", \"exercise books\", \"story book\", \"drawing books\"]\n",
        "prices = [100,60,90,70]\n",
        "quantities = [3,2,1,4]"
      ],
      "metadata": {
        "id": "v8j0NjlU1RUz"
      },
      "execution_count": null,
      "outputs": []
    },
    {
      "cell_type": "code",
      "source": [
        "books= [\"textbooks\", \"exercise books\", \"story book\", \"drawing books\"]\n",
        "prices = [100,60,90,70]\n",
        "quantities = [3,2,1,4]"
      ],
      "metadata": {
        "id": "PKiuctRJ13-s"
      },
      "execution_count": null,
      "outputs": []
    },
    {
      "cell_type": "code",
      "source": [
        "result=[(quantities,books,quantities*prices) for books , prices, quantities in zip(books,prices,quantities)]\n",
        "print(result)"
      ],
      "metadata": {
        "colab": {
          "base_uri": "https://localhost:8080/"
        },
        "id": "_U89y4Lp3RWy",
        "outputId": "c4fd8410-ee41-4d4a-c0ce-26a61e2e1622"
      },
      "execution_count": null,
      "outputs": [
        {
          "output_type": "stream",
          "name": "stdout",
          "text": [
            "[(3, 'textbooks', 300), (2, 'exercise books', 120), (1, 'story book', 90), (4, 'drawing books', 280)]\n"
          ]
        }
      ]
    },
    {
      "cell_type": "code",
      "source": [
        "for x , y, z in zip(books,prices,quantities):\n",
        "  print(f\"you bought {z} {x} for $ {y*z}\")\n"
      ],
      "metadata": {
        "colab": {
          "base_uri": "https://localhost:8080/"
        },
        "id": "J95eKsdq1UjA",
        "outputId": "c1e2fb2e-b5a2-4cf0-a50d-c9a94eb7f23d"
      },
      "execution_count": null,
      "outputs": [
        {
          "output_type": "stream",
          "name": "stdout",
          "text": [
            "you bought 3 textbooks for $ 300\n",
            "you bought 2 exercise books for $ 120\n",
            "you bought 1 story book for $ 90\n",
            "you bought 4 drawing books for $ 280\n"
          ]
        }
      ]
    },
    {
      "cell_type": "code",
      "source": [
        "List_1 = [2,4,6,8,10]\n",
        "list2=[]\n",
        "\n",
        "for i in List_1:\n",
        "  list_10=i+10\n",
        "  list2.append(list_10)\n",
        "print(list2)"
      ],
      "metadata": {
        "colab": {
          "base_uri": "https://localhost:8080/"
        },
        "id": "VJfCaXeyG38h",
        "outputId": "3619c233-1bdb-4d62-d1c8-43631e19073a"
      },
      "execution_count": null,
      "outputs": [
        {
          "output_type": "stream",
          "name": "stdout",
          "text": [
            "[12, 14, 16, 18, 20]\n"
          ]
        }
      ]
    },
    {
      "cell_type": "code",
      "source": [
        "list1 = [10, 20, 30, 40]\n",
        "list2 = [\"Apples\", \"Mangoes\", \"Oranges\", \"Grapes\"]\n",
        "list3=[]\n",
        "\n",
        "#for i in list2:\n",
        "  #rev=list2.reverse(i)\n",
        " # rev = \"\".join(reversed(i))\n",
        " # list3.append(rev)\n",
        "\n",
        "\n",
        "#for x,y in zip(list1,list3):\n",
        "#  print(f\"{x} {y}\")\n",
        "\n",
        "# Iterate over the two lists simultaneously using the zip() function.\n",
        "for x, y in zip(list1, list2[::-1]):\n",
        "  # Print the items from the two lists in the specified order.\n",
        "  print(f\"{x} {y}\")"
      ],
      "metadata": {
        "colab": {
          "base_uri": "https://localhost:8080/"
        },
        "id": "kaeBpzUNRBWj",
        "outputId": "a4f20f3e-1a3d-49b2-ccba-dccffbe9f7e1"
      },
      "execution_count": null,
      "outputs": [
        {
          "output_type": "stream",
          "name": "stdout",
          "text": [
            "10 Grapes\n",
            "20 Oranges\n",
            "30 Mangoes\n",
            "40 Apples\n"
          ]
        }
      ]
    },
    {
      "cell_type": "code",
      "source": [
        "list1 = [10, 20, 30, 40]\n",
        "list2 = [\"Apples\", \"Mangoes\", \"Oranges\", \"Grapes\"]\n",
        "\n",
        "list2.reverse()\n",
        "\n",
        "for x,y in zip(list1,list2):\n",
        "  print(f\"{x} {y}\")"
      ],
      "metadata": {
        "colab": {
          "base_uri": "https://localhost:8080/"
        },
        "id": "fLfth4DagUxq",
        "outputId": "47ec6325-48cc-43ec-98ce-8ed6351fc0ef"
      },
      "execution_count": null,
      "outputs": [
        {
          "output_type": "stream",
          "name": "stdout",
          "text": [
            "10 Grapes\n",
            "20 Oranges\n",
            "30 Mangoes\n",
            "40 Apples\n"
          ]
        }
      ]
    },
    {
      "cell_type": "code",
      "source": [
        "list1 = [\"a\", \"b\", [\"c\", [\"d\", \"e\", [\"f\", \"g\"], \"k\"], \"l\"], \"m\", \"n\"]\n",
        "sub_list = [\"h\", \"i\", \"j\"]\n",
        "\n",
        "list1[2][1][2].extend(sub_list)\n",
        "list1[2][1][2].append(sub_list)\n",
        "\n",
        "print(list1)"
      ],
      "metadata": {
        "colab": {
          "base_uri": "https://localhost:8080/"
        },
        "id": "7LMBa0eEi79Z",
        "outputId": "ff6f1c84-ecd4-408d-a2f4-0bb9855ee234"
      },
      "execution_count": null,
      "outputs": [
        {
          "output_type": "stream",
          "name": "stdout",
          "text": [
            "['a', 'b', ['c', ['d', 'e', ['f', 'g', 'h', 'i', 'j', ['h', 'i', 'j']], 'k'], 'l'], 'm', 'n']\n"
          ]
        }
      ]
    },
    {
      "cell_type": "code",
      "source": [
        "List1= [10,15,20,15,32,54,15]\n",
        "\n",
        "\n",
        "for i in List1:\n",
        "  if (i== 15):\n",
        "    List1.remove(i)\n",
        "print(List1)"
      ],
      "metadata": {
        "colab": {
          "base_uri": "https://localhost:8080/"
        },
        "id": "soXo-oDqmGXd",
        "outputId": "399438d5-744d-40a2-f479-835a70cb5669"
      },
      "execution_count": null,
      "outputs": [
        {
          "output_type": "stream",
          "name": "stdout",
          "text": [
            "[10, 20, 32, 54]\n"
          ]
        }
      ]
    },
    {
      "cell_type": "code",
      "source": [
        "List1= [10,15,20,15,32,54,15]\n",
        "\n",
        "\n",
        "while 15 in List1:\n",
        "  List1.remove(15)\n",
        "print(List1)"
      ],
      "metadata": {
        "colab": {
          "base_uri": "https://localhost:8080/"
        },
        "id": "D4A_yzi20y4V",
        "outputId": "0777e6b7-000e-448f-92c5-793897e0bc6b"
      },
      "execution_count": null,
      "outputs": [
        {
          "output_type": "stream",
          "name": "stdout",
          "text": [
            "[10, 20, 32, 54]\n"
          ]
        }
      ]
    },
    {
      "cell_type": "code",
      "source": [
        "dict_1 = {'John': 15, 'Rick': 10, 'Misa': 12}\n",
        "dict_2 = {'Bonnie': 18,'Rick': 20,'Matt': 16}\n",
        "\n",
        "dict_1.update(dict_2)\n",
        "\n",
        "print(dict_1)"
      ],
      "metadata": {
        "colab": {
          "base_uri": "https://localhost:8080/"
        },
        "id": "mNYcXXr01Jd2",
        "outputId": "dda5fa3d-5801-472c-d63a-00f2dd7c1530"
      },
      "execution_count": null,
      "outputs": [
        {
          "output_type": "stream",
          "name": "stdout",
          "text": [
            "{'John': 15, 'Rick': 20, 'Misa': 12, 'Bonnie': 18, 'Matt': 16}\n"
          ]
        }
      ]
    },
    {
      "cell_type": "code",
      "source": [
        "dict_1 = {'John': 15, 'Rick': 10, 'Misa': 12}\n",
        "dict_2 = {'Bonnie': 18,'Rick': 20,'Matt': 16}\n",
        "\n",
        "item=dict(zip(dict_1.keys(),dict_2.values()))\n",
        "\n",
        "print(item)"
      ],
      "metadata": {
        "colab": {
          "base_uri": "https://localhost:8080/"
        },
        "id": "OaEcuuXvBVzb",
        "outputId": "cf72ecb1-ebb8-4821-e064-5ed5de8e30e7"
      },
      "execution_count": null,
      "outputs": [
        {
          "output_type": "stream",
          "name": "stdout",
          "text": [
            "{'John': 18, 'Rick': 20, 'Misa': 16}\n"
          ]
        }
      ]
    },
    {
      "cell_type": "code",
      "source": [
        "d = {0: 0, 1: 1, 2: 2, 3: 3}\n",
        "d[3]=d.pop(0)\n",
        "\n",
        "print(d)"
      ],
      "metadata": {
        "colab": {
          "base_uri": "https://localhost:8080/"
        },
        "id": "1Dq4DzDLBvot",
        "outputId": "93f95096-e139-4541-e3d4-88f86b040903"
      },
      "execution_count": null,
      "outputs": [
        {
          "output_type": "stream",
          "name": "stdout",
          "text": [
            "{1: 1, 2: 2, 3: 0}\n"
          ]
        }
      ]
    },
    {
      "cell_type": "code",
      "source": [
        "dict_1 = {'John': 15, 'Rick': 10, 'Misa': 12}\n",
        "dict_2 = {'Bonnie': 18,'Rick': 20,'Matt': 16}\n",
        "\n",
        "item=dict(zip(dict_1.keys(),dict_1.values()))\n",
        "items=dict(zip(dict_2.keys(),dict_2.values()))\n",
        "\n",
        "print(f\"{item} {items}\")"
      ],
      "metadata": {
        "colab": {
          "base_uri": "https://localhost:8080/"
        },
        "id": "Dof_qsxCCqpt",
        "outputId": "3b09081a-98df-4b83-b3a2-fed28e38fd1b"
      },
      "execution_count": null,
      "outputs": [
        {
          "output_type": "stream",
          "name": "stdout",
          "text": [
            "{'John': 15, 'Rick': 10, 'Misa': 12} {'Bonnie': 18, 'Rick': 20, 'Matt': 16}\n"
          ]
        }
      ]
    },
    {
      "cell_type": "code",
      "source": [
        "country=[\"USA\",\"France\",\"India\"]\n",
        "capital= [\"Washington D.C.\",\"Paris\",\"New Delhi\"]\n",
        "\n",
        "item=dict(zip(country,capital))\n",
        "\n",
        "print(item)"
      ],
      "metadata": {
        "colab": {
          "base_uri": "https://localhost:8080/"
        },
        "id": "3wZg_ETeJF0I",
        "outputId": "0d28f1d5-420a-425d-b63d-0fbe5d078a1f"
      },
      "execution_count": null,
      "outputs": [
        {
          "output_type": "stream",
          "name": "stdout",
          "text": [
            "{'USA': 'Washington D.C.', 'France': 'Paris', 'India': 'New Delhi'}\n"
          ]
        }
      ]
    },
    {
      "cell_type": "code",
      "source": [
        "My_dict = {\"Fruit\": \"Pear\",\n",
        "\"Vegetable\": \"Carrot\",\n",
        "\"Pet\": \"Cat\",\n",
        "\"Book\": \"Moby dick\",\n",
        "\"Crystal\": \"Amethyst\"}\n",
        "\n",
        "keysToRemove = [\"Book\", \"Crystal\"]\n",
        "\n",
        "for i in keysToRemove:\n",
        "  My_dict.pop(i)\n",
        "print(My_dict)"
      ],
      "metadata": {
        "colab": {
          "base_uri": "https://localhost:8080/"
        },
        "id": "dWn-XTC_KL7R",
        "outputId": "db147ccc-745f-42d1-aacb-912992f4c6dd"
      },
      "execution_count": null,
      "outputs": [
        {
          "output_type": "stream",
          "name": "stdout",
          "text": [
            "{'Fruit': 'Pear', 'Vegetable': 'Carrot', 'Pet': 'Cat'}\n"
          ]
        }
      ]
    },
    {
      "cell_type": "code",
      "source": [
        "My_dict = {\"Fruit\": \"Pear\",\n",
        "\"Vegetable\": \"Carrot\",\n",
        "\"Pet\": \"Cat\",\n",
        "\"Book\": \"Moby dick\",\n",
        "\"Crystal\": \"Amethyst\"}\n",
        "\n",
        "My_dict.pop(\"Book\")\n",
        "My_dict.pop(\"Crystal\")\n",
        "\n",
        "print(My_dict)"
      ],
      "metadata": {
        "colab": {
          "base_uri": "https://localhost:8080/"
        },
        "id": "_LOpEEfqcP3B",
        "outputId": "bc5af78d-1c6a-4f5a-b5db-24e760cc00ab"
      },
      "execution_count": null,
      "outputs": [
        {
          "output_type": "stream",
          "name": "stdout",
          "text": [
            "{'Fruit': 'Pear', 'Vegetable': 'Carrot', 'Pet': 'Cat'}\n"
          ]
        }
      ]
    },
    {
      "cell_type": "code",
      "source": [
        "sub_dict = {'math' : 100, 'chem' : 98, 'sci' : 100,'eng':100}\n",
        "key_to_extract = {'math','sci'}\n",
        "\n",
        "\n",
        "\n",
        "extracted_dict ={}\n",
        "\n",
        "for key in key_to_extract:\n",
        "  if key in sub_dict:\n",
        "    extracted_dict[key] = sub_dict[key]\n",
        "print(extracted_dict)"
      ],
      "metadata": {
        "colab": {
          "base_uri": "https://localhost:8080/"
        },
        "id": "CkNYDKWImFBF",
        "outputId": "fde1df7a-ad74-41d6-fe7d-4296933a7460"
      },
      "execution_count": null,
      "outputs": [
        {
          "output_type": "stream",
          "name": "stdout",
          "text": [
            "{'sci': 100, 'math': 100}\n"
          ]
        }
      ]
    },
    {
      "cell_type": "code",
      "source": [
        "sub_dict = {'math' : 100, 'chem' : 98, 'sci' : 100,'eng':100}\n",
        "key_to_extract = {'math','sci'}\n",
        "\n",
        "\n",
        "\n",
        "extracted_dict ={}\n",
        "\n",
        "for key in key_to_extract:\n",
        "  if key in sub_dict:\n",
        "    extracted_dict[key] = sub_dict[key]\n",
        "print(extracted_dict)"
      ],
      "metadata": {
        "colab": {
          "base_uri": "https://localhost:8080/"
        },
        "id": "PKaVOYwXq_Iu",
        "outputId": "6f4163c7-c5fc-4d5b-ef3e-ebfe247536d7"
      },
      "execution_count": null,
      "outputs": [
        {
          "output_type": "stream",
          "name": "stdout",
          "text": [
            "{'sci': 100, 'math': 100}\n"
          ]
        }
      ]
    },
    {
      "cell_type": "code",
      "source": [
        "#Given a list iterate it and display numbers which are divisible by 5.\n",
        "#answer: [15, 55, 75, 150, 180, 200]\n",
        "\n",
        "list1 = [12, 15, 32, 42, 55, 75, 122, 132, 150, 180, 200]\n",
        "\n",
        "list2=[]\n",
        "\n",
        "\n",
        "for i in list1:\n",
        "  if i%5==0:\n",
        "    list2.append(i)\n",
        "print(list2)"
      ],
      "metadata": {
        "colab": {
          "base_uri": "https://localhost:8080/"
        },
        "id": "26pvcrgTrkNX",
        "outputId": "e889db54-4124-481d-d080-e44ac8c8bd82"
      },
      "execution_count": null,
      "outputs": [
        {
          "output_type": "stream",
          "name": "stdout",
          "text": [
            "[15, 55, 75, 150, 180, 200]\n"
          ]
        }
      ]
    },
    {
      "cell_type": "code",
      "source": [
        "numbers = [12, 75, 150, 180, 145, 525, 50]\n",
        "\n",
        "for i in (numbers):\n",
        "  if i%5==0 and i <= 150 and i <= 500:\n",
        "    #if i>150:\n",
        "      #continue\n",
        "    #if i>=500:\n",
        "       # break\n",
        "    print(i)\n",
        "\n",
        "\n"
      ],
      "metadata": {
        "colab": {
          "base_uri": "https://localhost:8080/"
        },
        "id": "_mBY9kyOs2fi",
        "outputId": "aa2d3efe-4bb3-429c-95ed-ab1a0682186d"
      },
      "execution_count": null,
      "outputs": [
        {
          "output_type": "stream",
          "name": "stdout",
          "text": [
            "75\n",
            "150\n",
            "145\n",
            "50\n"
          ]
        }
      ]
    },
    {
      "cell_type": "code",
      "source": [
        "def count_character(str1):\n",
        "    upper=0\n",
        "    lower=0\n",
        "    special=0\n",
        "    num=0\n",
        "\n",
        "\n",
        "    for char in str1:\n",
        "        if char.isupper():\n",
        "            upper +=1\n",
        "        elif char.islower():\n",
        "            lower +=1\n",
        "        elif char.isdigit():\n",
        "            num +=1\n",
        "        else:\n",
        "            special +=1\n",
        "\n",
        "    return   upper,lower,special,num\n",
        "upper,lower,special,num   = count_character(\"@W3Resource.Com\")\n",
        "print(\"Upper case characters:\", upper)\n",
        "print(\"Lower case characters:\", lower)\n",
        "print(\"Number case:\", num)\n",
        "print(\"Special case characters:\", special)"
      ],
      "metadata": {
        "colab": {
          "base_uri": "https://localhost:8080/"
        },
        "id": "KnW9OrFRF7HI",
        "outputId": "4c3ab09a-b782-4afb-b26d-2c8eba8ff671"
      },
      "execution_count": null,
      "outputs": [
        {
          "output_type": "stream",
          "name": "stdout",
          "text": [
            "Upper case characters: 3\n",
            "Lower case characters: 9\n",
            "Number case: 1\n",
            "Special case characters: 2\n"
          ]
        }
      ]
    }
  ]
}